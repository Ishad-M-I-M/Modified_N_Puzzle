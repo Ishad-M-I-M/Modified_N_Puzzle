{
 "cells": [
  {
   "cell_type": "code",
   "execution_count": 1,
   "outputs": [],
   "source": [
    "import math\n",
    "import statistics"
   ],
   "metadata": {
    "collapsed": false
   }
  },
  {
   "cell_type": "code",
   "execution_count": 4,
   "outputs": [
    {
     "name": "stdout",
     "output_type": "stream",
     "text": [
      "(41, 99)\n",
      "(273, 448)\n",
      "(821, 1920)\n",
      "(30, 41)\n",
      "(97, 279)\n",
      "(36, 125)\n",
      "(71, 122)\n",
      "(37, 132)\n",
      "(35, 118)\n",
      "(367, 3543)\n",
      "(12, 12)\n",
      "(100, 343)\n",
      "(24, 24)\n",
      "(7, 12)\n",
      "(57, 110)\n",
      "(61, 370)\n",
      "(16, 16)\n",
      "(40, 40)\n",
      "(45, 71)\n",
      "(447, 1391)\n",
      "(20, 20)\n",
      "(50, 376)\n",
      "(18, 18)\n",
      "(72, 144)\n",
      "(49, 535)\n",
      "(50, 50)\n",
      "(38, 44)\n",
      "(58, 78)\n",
      "(49, 73)\n",
      "(11, 14)\n",
      "(94, 212)\n",
      "(63, 79)\n",
      "(27, 87)\n",
      "(12, 14)\n",
      "(64, 130)\n",
      "(112, 930)\n",
      "(16, 16)\n",
      "(46, 107)\n",
      "(5, 5)\n",
      "(20, 20)\n",
      "(20, 20)\n",
      "(314, 505)\n",
      "(73, 224)\n",
      "(495, 5226)\n",
      "(33, 33)\n",
      "(42, 42)\n",
      "(64, 233)\n",
      "(117, 406)\n",
      "(80, 150)\n",
      "(40, 40)\n",
      "(838, 2662)\n",
      "(154, 1455)\n",
      "(89, 858)\n",
      "(33, 56)\n",
      "(63, 63)\n",
      "(48, 193)\n",
      "(188, 663)\n",
      "(26, 35)\n",
      "(20, 20)\n",
      "(32, 32)\n",
      "(18, 18)\n",
      "(11, 37)\n",
      "(8, 8)\n",
      "(329, 863)\n",
      "(77, 77)\n",
      "(448, 3830)\n",
      "(104, 290)\n",
      "(39, 138)\n",
      "(14, 14)\n",
      "(36, 93)\n",
      "(76, 104)\n",
      "(49, 49)\n",
      "(21, 21)\n",
      "(91, 152)\n",
      "(56, 56)\n",
      "(287, 956)\n",
      "(42, 185)\n",
      "(40, 40)\n",
      "(261, 903)\n",
      "(427, 3700)\n",
      "(67, 160)\n",
      "(143, 955)\n",
      "(75, 328)\n",
      "(189, 495)\n",
      "(24, 24)\n",
      "(121, 314)\n",
      "(153, 294)\n",
      "(505, 2387)\n",
      "(208, 294)\n",
      "(32, 32)\n",
      "(49, 49)\n",
      "(112, 239)\n",
      "(225, 536)\n",
      "(134, 260)\n",
      "(96, 96)\n",
      "(16, 39)\n",
      "(90, 119)\n",
      "(117, 117)\n",
      "(45, 45)\n",
      "(140, 248)\n"
     ]
    }
   ],
   "source": [
    "results = []\n",
    "with open(\"result.txt\", \"r\") as f:\n",
    "    results = [tuple(map(int, x.strip().split())) for x in f.readlines()]\n",
    "\n",
    "print(*results, sep=\"\\n\")"
   ],
   "metadata": {
    "collapsed": false
   }
  },
  {
   "cell_type": "markdown",
   "source": [
    "Analyzing Manhattan cost"
   ],
   "metadata": {
    "collapsed": false
   }
  },
  {
   "cell_type": "code",
   "execution_count": 5,
   "outputs": [
    {
     "name": "stdout",
     "output_type": "stream",
     "text": [
      "Mean: 112.35\n",
      "Standard deviation: 152.4165858972233\n",
      "Max: 838\n",
      "Min: 5\n"
     ]
    }
   ],
   "source": [
    "manhattan_costs = [x[0] for x in results]\n",
    "print(\"Mean:\", statistics.mean(manhattan_costs))\n",
    "print(\"Standard deviation:\", statistics.stdev(manhattan_costs))\n",
    "print(\"Max:\", max(manhattan_costs))\n",
    "print(\"Min:\", min(manhattan_costs))"
   ],
   "metadata": {
    "collapsed": false
   }
  },
  {
   "cell_type": "markdown",
   "source": [
    "Analyzing Misplaced cost"
   ],
   "metadata": {
    "collapsed": false
   }
  },
  {
   "cell_type": "code",
   "execution_count": 6,
   "outputs": [
    {
     "name": "stdout",
     "output_type": "stream",
     "text": [
      "Mean: 436.49\n",
      "Standard deviation: 889.1082525471658\n",
      "Max: 5226\n",
      "Min: 5\n"
     ]
    }
   ],
   "source": [
    "misplaced_costs = [x[1] for x in results]\n",
    "print(\"Mean:\", statistics.mean(misplaced_costs))\n",
    "print(\"Standard deviation:\", statistics.stdev(misplaced_costs))\n",
    "print(\"Max:\", max(misplaced_costs))\n",
    "print(\"Min:\", min(misplaced_costs))"
   ],
   "metadata": {
    "collapsed": false
   }
  },
  {
   "cell_type": "markdown",
   "source": [
    "Analyzing (Misplaced - Manhattan)"
   ],
   "metadata": {
    "collapsed": false
   }
  },
  {
   "cell_type": "markdown",
   "source": [
    "H0 = 0 = A* search with Manhattan distance heuristic function and Misplaced tile heuristic function is equal.\n",
    "HA = A* search with Manhattan distance heuristic function and Misplaced tile heuristic function is not equal.\n",
    "\n",
    "degree of freedom = 100 -1 = 99"
   ],
   "metadata": {
    "collapsed": false
   }
  },
  {
   "cell_type": "code",
   "execution_count": 7,
   "outputs": [
    {
     "name": "stdout",
     "output_type": "stream",
     "text": [
      "Mean: 324.14\n",
      "Standard deviation: 774.1655138458976\n",
      "Max: 4731\n",
      "Min: 0\n",
      "Standard Error of Mean: 77.41655138458977\n",
      "t-value 4.186959948522352\n"
     ]
    }
   ],
   "source": [
    "diff_manhattan_misplace = [ (x[1] - x[0]) for x in results]\n",
    "mean = statistics.mean(diff_manhattan_misplace)\n",
    "std_deviation = statistics.stdev(diff_manhattan_misplace)\n",
    "std_error = std_deviation/math.sqrt(100)\n",
    "print(\"Mean:\", mean)\n",
    "print(\"Standard deviation:\", std_deviation)\n",
    "print(\"Max:\", max(diff_manhattan_misplace))\n",
    "print(\"Min:\", min(diff_manhattan_misplace))\n",
    "print(\"Standard Error of Mean:\", std_error)\n",
    "print(\"t-value\", (mean-0)/std_error)"
   ],
   "metadata": {
    "collapsed": false
   }
  },
  {
   "cell_type": "markdown",
   "source": [
    "Let significance value \tα = 0.05\n",
    "t_critical ~ 1.98 < 4.186\n",
    "Though reject the null hypothesis.\n",
    "\n",
    "So, Manhattan heuristic function perform better in than Misplace heuristic function for solving\n",
    "Modified N puzzle problem"
   ],
   "metadata": {
    "collapsed": false
   }
  },
  {
   "cell_type": "code",
   "execution_count": null,
   "outputs": [],
   "source": [],
   "metadata": {
    "collapsed": false
   }
  }
 ],
 "metadata": {
  "kernelspec": {
   "display_name": "Python 3",
   "language": "python",
   "name": "python3"
  },
  "language_info": {
   "codemirror_mode": {
    "name": "ipython",
    "version": 2
   },
   "file_extension": ".py",
   "mimetype": "text/x-python",
   "name": "python",
   "nbconvert_exporter": "python",
   "pygments_lexer": "ipython2",
   "version": "2.7.6"
  }
 },
 "nbformat": 4,
 "nbformat_minor": 0
}
