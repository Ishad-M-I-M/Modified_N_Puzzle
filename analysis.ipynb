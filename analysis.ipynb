{
 "cells": [
  {
   "cell_type": "code",
   "execution_count": 1,
   "outputs": [],
   "source": [
    "import math\n",
    "import statistics\n",
    "import scipy.stats as stats"
   ],
   "metadata": {
    "collapsed": false
   }
  },
  {
   "cell_type": "code",
   "execution_count": 2,
   "outputs": [
    {
     "name": "stdout",
     "output_type": "stream",
     "text": [
      "(56, 400)\n",
      "(44, 44)\n",
      "(256, 636)\n",
      "(14, 14)\n",
      "(56, 130)\n",
      "(9, 9)\n",
      "(566, 6279)\n",
      "(32, 141)\n",
      "(16, 16)\n",
      "(126, 593)\n",
      "(68, 113)\n",
      "(16, 16)\n",
      "(28, 68)\n",
      "(174, 742)\n",
      "(39, 61)\n",
      "(24, 42)\n",
      "(80, 583)\n",
      "(30, 172)\n",
      "(42, 167)\n",
      "(24, 24)\n",
      "(27, 62)\n",
      "(32, 101)\n",
      "(36, 36)\n",
      "(116, 1113)\n",
      "(205, 978)\n",
      "(32, 48)\n",
      "(99, 697)\n",
      "(21, 21)\n",
      "(8, 8)\n",
      "(10, 10)\n",
      "(1172, 3529)\n",
      "(31, 51)\n",
      "(219, 379)\n",
      "(21, 21)\n",
      "(239, 786)\n",
      "(1729, 4744)\n",
      "(75, 121)\n",
      "(10, 10)\n",
      "(7, 7)\n",
      "(260, 1180)\n",
      "(22, 30)\n",
      "(167, 798)\n",
      "(19, 43)\n",
      "(73, 477)\n",
      "(29, 29)\n",
      "(27, 39)\n",
      "(157, 745)\n",
      "(660, 1903)\n",
      "(68, 423)\n",
      "(110, 296)\n",
      "(40, 40)\n",
      "(646, 2841)\n",
      "(63, 79)\n",
      "(27, 98)\n",
      "(30, 95)\n",
      "(190, 867)\n",
      "(114, 195)\n",
      "(65, 85)\n",
      "(31, 155)\n",
      "(146, 646)\n",
      "(100, 383)\n",
      "(45, 54)\n",
      "(24, 24)\n",
      "(105, 483)\n",
      "(256, 1518)\n",
      "(56, 145)\n",
      "(30, 133)\n",
      "(283, 480)\n",
      "(185, 417)\n",
      "(60, 60)\n",
      "(56, 56)\n",
      "(118, 321)\n",
      "(132, 132)\n",
      "(105, 187)\n",
      "(69, 385)\n",
      "(71, 95)\n",
      "(42, 72)\n",
      "(140, 388)\n",
      "(220, 552)\n",
      "(30, 59)\n",
      "(77, 77)\n",
      "(48, 118)\n",
      "(48, 48)\n",
      "(24, 24)\n",
      "(47, 79)\n",
      "(21, 21)\n",
      "(248, 724)\n",
      "(49, 49)\n",
      "(97, 125)\n",
      "(6, 6)\n",
      "(36, 60)\n",
      "(55, 55)\n",
      "(35, 55)\n",
      "(298, 2076)\n",
      "(24, 24)\n",
      "(112, 134)\n",
      "(72, 72)\n",
      "(88, 120)\n",
      "(60, 70)\n",
      "(144, 239)\n"
     ]
    }
   ],
   "source": [
    "results = []\n",
    "with open(\"result.txt\", \"r\") as f:\n",
    "    results = [tuple(map(int, x.strip().split())) for x in f.readlines()]\n",
    "\n",
    "print(*results, sep=\"\\n\")"
   ],
   "metadata": {
    "collapsed": false
   }
  },
  {
   "cell_type": "markdown",
   "source": [
    "Analyzing Manhattan cost"
   ],
   "metadata": {
    "collapsed": false
   }
  },
  {
   "cell_type": "code",
   "execution_count": 3,
   "outputs": [
    {
     "name": "stdout",
     "output_type": "stream",
     "text": [
      "Mean: 124.49\n",
      "Standard deviation: 227.0569053845936\n",
      "Max: 1729\n",
      "Min: 6\n"
     ]
    }
   ],
   "source": [
    "manhattan_costs = [x[0] for x in results]\n",
    "print(\"Mean:\", statistics.mean(manhattan_costs))\n",
    "print(\"Standard deviation:\", statistics.stdev(manhattan_costs))\n",
    "print(\"Max:\", max(manhattan_costs))\n",
    "print(\"Min:\", min(manhattan_costs))"
   ],
   "metadata": {
    "collapsed": false
   }
  },
  {
   "cell_type": "markdown",
   "source": [
    "Analyzing Misplaced cost"
   ],
   "metadata": {
    "collapsed": false
   }
  },
  {
   "cell_type": "code",
   "execution_count": 4,
   "outputs": [
    {
     "name": "stdout",
     "output_type": "stream",
     "text": [
      "Mean: 441.56\n",
      "Standard deviation: 927.9036143780007\n",
      "Max: 6279\n",
      "Min: 6\n"
     ]
    }
   ],
   "source": [
    "misplaced_costs = [x[1] for x in results]\n",
    "print(\"Mean:\", statistics.mean(misplaced_costs))\n",
    "print(\"Standard deviation:\", statistics.stdev(misplaced_costs))\n",
    "print(\"Max:\", max(misplaced_costs))\n",
    "print(\"Min:\", min(misplaced_costs))"
   ],
   "metadata": {
    "collapsed": false
   }
  },
  {
   "cell_type": "markdown",
   "source": [
    "Analyzing (Misplaced - Manhattan)"
   ],
   "metadata": {
    "collapsed": false
   }
  },
  {
   "cell_type": "markdown",
   "source": [
    "H0 = 0 = A* search with Manhattan distance heuristic function and Misplaced tile heuristic function is equal.\n",
    "HA = A* search with Manhattan distance heuristic function and Misplaced tile heuristic function is not equal.\n",
    "\n",
    "degree of freedom = 100 -1 = 99"
   ],
   "metadata": {
    "collapsed": false
   }
  },
  {
   "cell_type": "code",
   "execution_count": 7,
   "outputs": [
    {
     "name": "stdout",
     "output_type": "stream",
     "text": [
      "Mean: 317.07\n",
      "Standard deviation: 747.389466913018\n",
      "Max: 5713\n",
      "Min: 0\n",
      "Standard Error of Mean: 74.7389466913018\n",
      "t-value 4.242366450648694\n"
     ]
    }
   ],
   "source": [
    "diff_manhattan_misplace = [ (x[1] - x[0]) for x in results]\n",
    "mean = statistics.mean(diff_manhattan_misplace)\n",
    "std_deviation = statistics.stdev(diff_manhattan_misplace)\n",
    "std_error = std_deviation/math.sqrt(100)\n",
    "print(\"Mean:\", mean)\n",
    "print(\"Standard deviation:\", std_deviation)\n",
    "print(\"Max:\", max(diff_manhattan_misplace))\n",
    "print(\"Min:\", min(diff_manhattan_misplace))\n",
    "print(\"Standard Error of Mean:\", std_error)\n",
    "print(\"t-value\", (mean-0)/std_error)"
   ],
   "metadata": {
    "collapsed": false
   }
  },
  {
   "cell_type": "markdown",
   "source": [
    "Let significance value \tα = 0.05\n",
    "t_critical ~ 1.98 < 4.242\n",
    "Though reject the null hypothesis.\n",
    "\n",
    "So, Manhattan heuristic function perform better in than Misplace heuristic function for solving\n",
    "Modified N puzzle problem"
   ],
   "metadata": {
    "collapsed": false
   }
  }
 ],
 "metadata": {
  "kernelspec": {
   "display_name": "Python 3",
   "language": "python",
   "name": "python3"
  },
  "language_info": {
   "codemirror_mode": {
    "name": "ipython",
    "version": 2
   },
   "file_extension": ".py",
   "mimetype": "text/x-python",
   "name": "python",
   "nbconvert_exporter": "python",
   "pygments_lexer": "ipython2",
   "version": "2.7.6"
  }
 },
 "nbformat": 4,
 "nbformat_minor": 0
}
